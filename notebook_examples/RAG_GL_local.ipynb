{
 "cells": [
  {
   "cell_type": "code",
   "execution_count": null,
   "metadata": {
    "id": "8D6s3uMHv-NG"
   },
   "outputs": [],
   "source": [
    "from langchain.chains import RetrievalQA\n",
    "from langchain.embeddings import SentenceTransformerEmbeddings\n",
    "from langchain.text_splitter import RecursiveCharacterTextSplitter\n",
    "from langchain.vectorstores import FAISS\n",
    "from langchain.llms import Ollama\n",
    "from langchain.document_loaders import TextLoader\n",
    "# from langchain.document_loaders import DirectoryLoader\n",
    "\n"
   ]
  },
  {
   "cell_type": "code",
   "execution_count": null,
   "metadata": {
    "id": "r1eO0m1qbJ6C"
   },
   "outputs": [],
   "source": []
  },
  {
   "cell_type": "code",
   "execution_count": null,
   "metadata": {
    "id": "-pKsWdmdpvSl"
   },
   "outputs": [],
   "source": [
    "#  ADD PATH\n",
    "loader = TextLoader('AAPL-MDA.txt')\n",
    "data = loader.load()\n",
    "\n",
    "# import whole directory...\n",
    "# loader2 = DirectoryLoader('/content/drive/MyDrive/exec ed GL/RAG/MDA', glob=\"*.txt\", loader_cls=TextLoader)\n",
    "# data2 = loader2.load()\n",
    "# print(data2[0])\n"
   ]
  },
  {
   "cell_type": "code",
   "execution_count": null,
   "metadata": {
    "id": "qlf026Hd8GrS"
   },
   "outputs": [],
   "source": []
  },
  {
   "cell_type": "code",
   "execution_count": null,
   "metadata": {
    "id": "7KPEj8fpqJOn"
   },
   "outputs": [],
   "source": [
    "# print(data)"
   ]
  },
  {
   "cell_type": "code",
   "execution_count": null,
   "metadata": {
    "id": "T1L27WlvyJIu"
   },
   "outputs": [],
   "source": [
    "#Step 05: Split the Extracted Data into Text Chunks\n",
    "text_splitter = RecursiveCharacterTextSplitter(chunk_size=2000, chunk_overlap=200)\n",
    "\n",
    "text_chunks = text_splitter.split_documents(data)\n"
   ]
  },
  {
   "cell_type": "code",
   "execution_count": null,
   "metadata": {
    "id": "6Jq5TiVcyiu2"
   },
   "outputs": [],
   "source": [
    "len(text_chunks)"
   ]
  },
  {
   "cell_type": "code",
   "execution_count": null,
   "metadata": {
    "id": "1o8aXL-Ryp9e"
   },
   "outputs": [],
   "source": [
    "#get the third chunk\n",
    "text_chunks[2].page_content"
   ]
  },
  {
   "cell_type": "code",
   "execution_count": null,
   "metadata": {
    "id": "GD5Bcw3dcr-v"
   },
   "outputs": [],
   "source": [
    "len(text_chunks[2].page_content)"
   ]
  },
  {
   "cell_type": "code",
   "execution_count": null,
   "metadata": {
    "id": "M7oKKdTPyxax"
   },
   "outputs": [],
   "source": [
    "#Step 06:Downlaod the Embeddings\n",
    "embeddings = SentenceTransformerEmbeddings(model_name=\"BAAI/bge-base-en-v1.5\")"
   ]
  },
  {
   "cell_type": "code",
   "execution_count": null,
   "metadata": {
    "id": "vZ25V-_bcq2m"
   },
   "outputs": [],
   "source": []
  },
  {
   "cell_type": "code",
   "execution_count": null,
   "metadata": {
    "id": "MJbn_hjzznhm"
   },
   "outputs": [],
   "source": [
    "#Step 08: Create Embeddings for each of the Text Chunk\n",
    "vector_store = FAISS.from_documents(text_chunks, embedding=embeddings)"
   ]
  },
  {
   "cell_type": "code",
   "execution_count": null,
   "metadata": {
    "id": "zwDvQEIvqhaS"
   },
   "outputs": [],
   "source": []
  },
  {
   "cell_type": "code",
   "execution_count": null,
   "metadata": {
    "id": "JdCqkSUIrIih"
   },
   "outputs": [],
   "source": [
    "#Import Model\n",
    "# https://ollama.com/library\n",
    "llm = Ollama(model='llama3.1:70b')"
   ]
  },
  {
   "cell_type": "code",
   "execution_count": null,
   "metadata": {
    "id": "FQlqe0wMrIaJ"
   },
   "outputs": [],
   "source": [
    "agent = RetrievalQA.from_chain_type(llm=llm, verbose=True, chain_type=\"stuff\", retriever=vector_store.as_retriever(search_kwargs={\"k\": 3}),chain_type_kwargs = {\"verbose\":True})"
   ]
  },
  {
   "cell_type": "code",
   "execution_count": null,
   "metadata": {
    "id": "rNm8oM73rR3n"
   },
   "outputs": [],
   "source": [
    "# The Company performs a detailed review of inventory each fiscal quarter that considers multiple factors including demand forecasts, product life cycle status, product development plans, current sales levels, and component cost trends.\n",
    "query =\"How often does the company review inventory, and what is considered in this inventory calculation?\""
   ]
  },
  {
   "cell_type": "code",
   "execution_count": null,
   "metadata": {
    "id": "_n5hvHOnrRp4"
   },
   "outputs": [],
   "source": [
    "output = agent.run(query)"
   ]
  },
  {
   "cell_type": "code",
   "execution_count": null,
   "metadata": {
    "id": "dwWR9OrArIQu"
   },
   "outputs": [],
   "source": [
    "print(output)"
   ]
  },
  {
   "cell_type": "code",
   "execution_count": null,
   "metadata": {
    "id": "sSB5nQfxkufr"
   },
   "outputs": [],
   "source": []
  }
 ],
 "metadata": {
  "accelerator": "GPU",
  "colab": {
   "gpuType": "T4",
   "provenance": []
  },
  "kernelspec": {
   "display_name": "Python 3 (ipykernel)",
   "language": "python",
   "name": "python3"
  },
  "language_info": {
   "codemirror_mode": {
    "name": "ipython",
    "version": 3
   },
   "file_extension": ".py",
   "mimetype": "text/x-python",
   "name": "python",
   "nbconvert_exporter": "python",
   "pygments_lexer": "ipython3",
   "version": "3.10.8"
  }
 },
 "nbformat": 4,
 "nbformat_minor": 4
}
