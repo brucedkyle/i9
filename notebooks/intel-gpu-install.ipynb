{
 "cells": [
  {
   "cell_type": "code",
   "execution_count": 5,
   "id": "c2185154-69c8-497d-af98-52e9aa0c4069",
   "metadata": {},
   "outputs": [
    {
     "name": "stdout",
     "output_type": "stream",
     "text": [
      "Looking in indexes: https://download.pytorch.org/whl/test/xpu\n",
      "Requirement already satisfied: torch in /home/bruce/miniconda3/envs/notebook/lib/python3.13/site-packages (2.7.0+xpu)\n",
      "Requirement already satisfied: torchvision in /home/bruce/miniconda3/envs/notebook/lib/python3.13/site-packages (0.22.0+xpu)\n",
      "Requirement already satisfied: torchaudio in /home/bruce/miniconda3/envs/notebook/lib/python3.13/site-packages (2.7.0+xpu)\n",
      "Requirement already satisfied: filelock in /home/bruce/miniconda3/envs/notebook/lib/python3.13/site-packages (from torch) (3.13.1)\n",
      "Requirement already satisfied: typing-extensions>=4.10.0 in /home/bruce/miniconda3/envs/notebook/lib/python3.13/site-packages (from torch) (4.12.2)\n",
      "Requirement already satisfied: setuptools in /home/bruce/miniconda3/envs/notebook/lib/python3.13/site-packages (from torch) (75.8.0)\n",
      "Requirement already satisfied: sympy>=1.13.3 in /home/bruce/miniconda3/envs/notebook/lib/python3.13/site-packages (from torch) (1.13.3)\n",
      "Requirement already satisfied: networkx in /home/bruce/miniconda3/envs/notebook/lib/python3.13/site-packages (from torch) (3.3)\n",
      "Requirement already satisfied: jinja2 in /home/bruce/miniconda3/envs/notebook/lib/python3.13/site-packages (from torch) (3.1.6)\n",
      "Requirement already satisfied: fsspec in /home/bruce/miniconda3/envs/notebook/lib/python3.13/site-packages (from torch) (2024.6.1)\n",
      "Requirement already satisfied: intel-cmplr-lib-rt==2025.0.4 in /home/bruce/miniconda3/envs/notebook/lib/python3.13/site-packages (from torch) (2025.0.4)\n",
      "Requirement already satisfied: intel-cmplr-lib-ur==2025.0.4 in /home/bruce/miniconda3/envs/notebook/lib/python3.13/site-packages (from torch) (2025.0.4)\n",
      "Requirement already satisfied: intel-cmplr-lic-rt==2025.0.4 in /home/bruce/miniconda3/envs/notebook/lib/python3.13/site-packages (from torch) (2025.0.4)\n",
      "Requirement already satisfied: intel-sycl-rt==2025.0.4 in /home/bruce/miniconda3/envs/notebook/lib/python3.13/site-packages (from torch) (2025.0.4)\n",
      "Requirement already satisfied: tcmlib==1.2.0 in /home/bruce/miniconda3/envs/notebook/lib/python3.13/site-packages (from torch) (1.2.0)\n",
      "Requirement already satisfied: umf==0.9.1 in /home/bruce/miniconda3/envs/notebook/lib/python3.13/site-packages (from torch) (0.9.1)\n",
      "Requirement already satisfied: intel-pti==0.10.1 in /home/bruce/miniconda3/envs/notebook/lib/python3.13/site-packages (from torch) (0.10.1)\n",
      "Requirement already satisfied: pytorch-triton-xpu==3.3.0 in /home/bruce/miniconda3/envs/notebook/lib/python3.13/site-packages (from torch) (3.3.0)\n",
      "Requirement already satisfied: numpy in /home/bruce/miniconda3/envs/notebook/lib/python3.13/site-packages (from torchvision) (2.1.2)\n",
      "Requirement already satisfied: pillow!=8.3.*,>=5.3.0 in /home/bruce/miniconda3/envs/notebook/lib/python3.13/site-packages (from torchvision) (11.0.0)\n",
      "Requirement already satisfied: mpmath<1.4,>=1.1.0 in /home/bruce/miniconda3/envs/notebook/lib/python3.13/site-packages (from sympy>=1.13.3->torch) (1.3.0)\n",
      "Requirement already satisfied: MarkupSafe>=2.0 in /home/bruce/miniconda3/envs/notebook/lib/python3.13/site-packages (from jinja2->torch) (3.0.2)\n"
     ]
    }
   ],
   "source": [
    "!pip3 install torch torchvision torchaudio --index-url https://download.pytorch.org/whl/test/xpu"
   ]
  },
  {
   "cell_type": "code",
   "execution_count": 6,
   "id": "01bc7bf8-1ee0-4766-9146-e73af129b228",
   "metadata": {},
   "outputs": [
    {
     "name": "stdout",
     "output_type": "stream",
     "text": [
      "/home/bruce/miniconda3/envs/notebook/bin/python\n",
      "2.7.0+xpu\n"
     ]
    }
   ],
   "source": [
    "import sys\n",
    "print(sys.executable)\n",
    "import torch\n",
    "print(torch.__version__)"
   ]
  },
  {
   "cell_type": "code",
   "execution_count": 7,
   "id": "d04f3d7f-fe02-4162-ac4d-d53958163705",
   "metadata": {},
   "outputs": [
    {
     "name": "stdout",
     "output_type": "stream",
     "text": [
      "False\n"
     ]
    }
   ],
   "source": [
    "import torch\n",
    "print(torch.xpu.is_available()) # Should return True if Intel GPU is available"
   ]
  },
  {
   "cell_type": "code",
   "execution_count": null,
   "id": "e1823206-2524-4398-9e7a-d4af9c1b4acd",
   "metadata": {},
   "outputs": [],
   "source": []
  },
  {
   "cell_type": "code",
   "execution_count": null,
   "id": "1c8f1927-36fc-49d8-bfc6-303df2258f2f",
   "metadata": {},
   "outputs": [],
   "source": []
  },
  {
   "cell_type": "code",
   "execution_count": null,
   "id": "819628c6-dc8f-458d-8f49-56e55dac3dc2",
   "metadata": {},
   "outputs": [],
   "source": []
  }
 ],
 "metadata": {
  "kernelspec": {
   "display_name": "Python 3 (ipykernel)",
   "language": "python",
   "name": "python3"
  },
  "language_info": {
   "codemirror_mode": {
    "name": "ipython",
    "version": 3
   },
   "file_extension": ".py",
   "mimetype": "text/x-python",
   "name": "python",
   "nbconvert_exporter": "python",
   "pygments_lexer": "ipython3",
   "version": "3.13.2"
  }
 },
 "nbformat": 4,
 "nbformat_minor": 5
}
